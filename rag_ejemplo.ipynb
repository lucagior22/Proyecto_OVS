{
 "cells": [
  {
   "cell_type": "code",
   "execution_count": 18,
   "id": "d1f56a68-d031-4026-851f-ce2ddb8dae39",
   "metadata": {},
   "outputs": [],
   "source": [
    "# https://www.semanticpartners.com/post/a-triple-store-rag-retriever\n",
    "# https://api.python.langchain.com/en/latest/_modules/langchain/chains/graph_qa/sparql.html\n",
    "# https://python.langchain.com/api_reference/community/chains/langchain_community.chains.graph_qa.sparql.GraphSparqlQAChain.html\n"
   ]
  },
  {
   "cell_type": "code",
   "execution_count": 19,
   "id": "b2dd225f-3375-4d19-be9e-937d492ef94e",
   "metadata": {},
   "outputs": [],
   "source": [
    "from langchain_core.retrievers import BaseRetriever\n",
    "from langchain.schema import Document\n",
    "from typing import List\n",
    "from SPARQLWrapper import SPARQLWrapper, JSON\n",
    "\n",
    "class MillenniumDBRetriever(BaseRetriever):\n",
    "    endpoint: SPARQLWrapper \n",
    "    \n",
    "    def __init__(self, endpoint_url: str):\n",
    "        super().__init__(endpoint=SPARQLWrapper(endpoint_url))\n",
    "        self.endpoint.setReturnFormat(JSON)\n",
    "\n",
    "    def _get_relevant_documents(self) -> List[Document]:\n",
    "\n",
    "        sparql_query = f\"\"\"\n",
    "                SELECT ?s ?p ?o\n",
    "                WHERE {{\n",
    "                    ?s ?p ?o .\n",
    "                    FILTER(regex(str(?s), \"A1327600018\", \"i\") || regex(str(?o), \"A1327600018\", \"i\"))\n",
    "                }}\n",
    "        \"\"\"\n",
    "\n",
    "        self.endpoint.setQuery(sparql_query)\n",
    "        results = self.endpoint.queryAndConvert()\n",
    "        print(results)\n",
    "        return results[\"results\"][\"bindings\"]\n",
    "\n",
    "    async def _aget_relevant_documents(self, query: str) -> List[Document]:\n",
    "        return self._get_relevant_documents(query)\n"
   ]
  },
  {
   "cell_type": "code",
   "execution_count": 20,
   "id": "272e00bb-5242-4613-a8b5-5e01fd272eca",
   "metadata": {},
   "outputs": [
    {
     "name": "stdout",
     "output_type": "stream",
     "text": [
      "Inicializando RdfGraph...\n",
      "RdfGraph creado correctamente.\n",
      "PromptTemplate creado.\n",
      "Cargando esquema RDF...\n",
      "Esquema RDF cargado.\n",
      "Inicializando GraphSparqlQAChain...\n",
      "GraphSparqlQAChain inicializado.\n",
      "Invocando la cadena para generar la consulta SPARQL...\n",
      "\n",
      "\n",
      "\u001b[1m> Entering new GraphSparqlQAChain chain...\u001b[0m\n",
      "Identified intent:\n",
      "\u001b[32;1m\u001b[1;3mSELECT\u001b[0m\n",
      "Generated SPARQL:\n",
      "\u001b[32;1m\u001b[1;3m```sparql\n",
      "SELECT ?city WHERE {\n",
      "    GRAPH <http://example.org/montology> {\n",
      "        GRAPH <http://raw.githubusercontent.com/fdioguardi/pronto/main/ontology/pronto.owl#size_type> {\n",
      "            a wd:Q57 ; # Wikidata item for \"Person\" class, assuming the city is associated with an individual in this graph\n",
      "            rdfs:label \"A1327600018\"^^xsd:integer ,\n",
      "            ?city .\n",
      "        }\n",
      "    }\n",
      "}\n",
      "```\u001b[0m\n"
     ]
    },
    {
     "ename": "ParseException",
     "evalue": "Expected {SelectQuery | ConstructQuery | DescribeQuery | AskQuery}, found '`'  (at char 0), (line:1, col:1)",
     "output_type": "error",
     "traceback": [
      "\u001b[31m---------------------------------------------------------------------------\u001b[39m",
      "\u001b[31mParseException\u001b[39m                            Traceback (most recent call last)",
      "\u001b[36mCell\u001b[39m\u001b[36m \u001b[39m\u001b[32mIn[20]\u001b[39m\u001b[32m, line 59\u001b[39m\n\u001b[32m     56\u001b[39m question= \u001b[33m\"\u001b[39m\u001b[33m¿Cómo es el nombre de la ciudad donde está ubicado el terreno con id A1327600018?\u001b[39m\u001b[33m\"\u001b[39m\n\u001b[32m     58\u001b[39m \u001b[38;5;28mprint\u001b[39m(\u001b[33m\"\u001b[39m\u001b[33mInvocando la cadena para generar la consulta SPARQL...\u001b[39m\u001b[33m\"\u001b[39m)\n\u001b[32m---> \u001b[39m\u001b[32m59\u001b[39m sparql_result = \u001b[43mchainSparQL\u001b[49m\u001b[43m.\u001b[49m\u001b[43minvoke\u001b[49m\u001b[43m(\u001b[49m\u001b[43mquestion\u001b[49m\u001b[43m)\u001b[49m\n\u001b[32m     60\u001b[39m \u001b[38;5;28mprint\u001b[39m(\u001b[33m\"\u001b[39m\u001b[33mConsulta SPARQL generada:\u001b[39m\u001b[33m\"\u001b[39m)\n\u001b[32m     61\u001b[39m sparql_query= sparql_result[\u001b[33m\"\u001b[39m\u001b[33msparql_query\u001b[39m\u001b[33m\"\u001b[39m]\n",
      "\u001b[36mFile \u001b[39m\u001b[32mc:\\Users\\lucag\\OneDrive\\Escritorio\\Facultad\\LIDI\\Proyecto_OVS\\.venv\\Lib\\site-packages\\langchain\\chains\\base.py:165\u001b[39m, in \u001b[36mChain.invoke\u001b[39m\u001b[34m(self, input, config, **kwargs)\u001b[39m\n\u001b[32m    162\u001b[39m \u001b[38;5;28;01mtry\u001b[39;00m:\n\u001b[32m    163\u001b[39m     \u001b[38;5;28mself\u001b[39m._validate_inputs(inputs)\n\u001b[32m    164\u001b[39m     outputs = (\n\u001b[32m--> \u001b[39m\u001b[32m165\u001b[39m         \u001b[38;5;28;43mself\u001b[39;49m\u001b[43m.\u001b[49m\u001b[43m_call\u001b[49m\u001b[43m(\u001b[49m\u001b[43minputs\u001b[49m\u001b[43m,\u001b[49m\u001b[43m \u001b[49m\u001b[43mrun_manager\u001b[49m\u001b[43m=\u001b[49m\u001b[43mrun_manager\u001b[49m\u001b[43m)\u001b[49m\n\u001b[32m    166\u001b[39m         \u001b[38;5;28;01mif\u001b[39;00m new_arg_supported\n\u001b[32m    167\u001b[39m         \u001b[38;5;28;01melse\u001b[39;00m \u001b[38;5;28mself\u001b[39m._call(inputs)\n\u001b[32m    168\u001b[39m     )\n\u001b[32m    170\u001b[39m     final_outputs: \u001b[38;5;28mdict\u001b[39m[\u001b[38;5;28mstr\u001b[39m, Any] = \u001b[38;5;28mself\u001b[39m.prep_outputs(\n\u001b[32m    171\u001b[39m         inputs,\n\u001b[32m    172\u001b[39m         outputs,\n\u001b[32m    173\u001b[39m         return_only_outputs,\n\u001b[32m    174\u001b[39m     )\n\u001b[32m    175\u001b[39m \u001b[38;5;28;01mexcept\u001b[39;00m \u001b[38;5;167;01mBaseException\u001b[39;00m \u001b[38;5;28;01mas\u001b[39;00m e:\n",
      "\u001b[36mFile \u001b[39m\u001b[32mc:\\Users\\lucag\\OneDrive\\Escritorio\\Facultad\\LIDI\\Proyecto_OVS\\.venv\\Lib\\site-packages\\langchain_community\\chains\\graph_qa\\sparql.py:164\u001b[39m, in \u001b[36mGraphSparqlQAChain._call\u001b[39m\u001b[34m(self, inputs, run_manager)\u001b[39m\n\u001b[32m    159\u001b[39m _run_manager.on_text(\n\u001b[32m    160\u001b[39m     generated_sparql, color=\u001b[33m\"\u001b[39m\u001b[33mgreen\u001b[39m\u001b[33m\"\u001b[39m, end=\u001b[33m\"\u001b[39m\u001b[38;5;130;01m\\n\u001b[39;00m\u001b[33m\"\u001b[39m, verbose=\u001b[38;5;28mself\u001b[39m.verbose\n\u001b[32m    161\u001b[39m )\n\u001b[32m    163\u001b[39m \u001b[38;5;28;01mif\u001b[39;00m intent == \u001b[33m\"\u001b[39m\u001b[33mSELECT\u001b[39m\u001b[33m\"\u001b[39m:\n\u001b[32m--> \u001b[39m\u001b[32m164\u001b[39m     context = \u001b[38;5;28;43mself\u001b[39;49m\u001b[43m.\u001b[49m\u001b[43mgraph\u001b[49m\u001b[43m.\u001b[49m\u001b[43mquery\u001b[49m\u001b[43m(\u001b[49m\u001b[43mgenerated_sparql\u001b[49m\u001b[43m)\u001b[49m\n\u001b[32m    166\u001b[39m     _run_manager.on_text(\u001b[33m\"\u001b[39m\u001b[33mFull Context:\u001b[39m\u001b[33m\"\u001b[39m, end=\u001b[33m\"\u001b[39m\u001b[38;5;130;01m\\n\u001b[39;00m\u001b[33m\"\u001b[39m, verbose=\u001b[38;5;28mself\u001b[39m.verbose)\n\u001b[32m    167\u001b[39m     _run_manager.on_text(\n\u001b[32m    168\u001b[39m         \u001b[38;5;28mstr\u001b[39m(context), color=\u001b[33m\"\u001b[39m\u001b[33mgreen\u001b[39m\u001b[33m\"\u001b[39m, end=\u001b[33m\"\u001b[39m\u001b[38;5;130;01m\\n\u001b[39;00m\u001b[33m\"\u001b[39m, verbose=\u001b[38;5;28mself\u001b[39m.verbose\n\u001b[32m    169\u001b[39m     )\n",
      "\u001b[36mFile \u001b[39m\u001b[32mc:\\Users\\lucag\\OneDrive\\Escritorio\\Facultad\\LIDI\\Proyecto_OVS\\.venv\\Lib\\site-packages\\langchain_community\\graphs\\rdf_graph.py:218\u001b[39m, in \u001b[36mRdfGraph.query\u001b[39m\u001b[34m(self, query)\u001b[39m\n\u001b[32m    215\u001b[39m \u001b[38;5;28;01mfrom\u001b[39;00m\u001b[38;5;250m \u001b[39m\u001b[34;01mrdflib\u001b[39;00m\u001b[34;01m.\u001b[39;00m\u001b[34;01mquery\u001b[39;00m\u001b[38;5;250m \u001b[39m\u001b[38;5;28;01mimport\u001b[39;00m ResultRow\n\u001b[32m    217\u001b[39m \u001b[38;5;28;01mtry\u001b[39;00m:\n\u001b[32m--> \u001b[39m\u001b[32m218\u001b[39m     res = \u001b[38;5;28;43mself\u001b[39;49m\u001b[43m.\u001b[49m\u001b[43mgraph\u001b[49m\u001b[43m.\u001b[49m\u001b[43mquery\u001b[49m\u001b[43m(\u001b[49m\u001b[43mquery\u001b[49m\u001b[43m)\u001b[49m\n\u001b[32m    219\u001b[39m \u001b[38;5;28;01mexcept\u001b[39;00m ParserError \u001b[38;5;28;01mas\u001b[39;00m e:\n\u001b[32m    220\u001b[39m     \u001b[38;5;28;01mraise\u001b[39;00m \u001b[38;5;167;01mValueError\u001b[39;00m(\u001b[33mf\u001b[39m\u001b[33m\"\u001b[39m\u001b[33mGenerated SPARQL statement is invalid\u001b[39m\u001b[38;5;130;01m\\n\u001b[39;00m\u001b[38;5;132;01m{\u001b[39;00me\u001b[38;5;132;01m}\u001b[39;00m\u001b[33m\"\u001b[39m)\n",
      "\u001b[36mFile \u001b[39m\u001b[32mc:\\Users\\lucag\\OneDrive\\Escritorio\\Facultad\\LIDI\\Proyecto_OVS\\.venv\\Lib\\site-packages\\rdflib\\graph.py:1632\u001b[39m, in \u001b[36mGraph.query\u001b[39m\u001b[34m(self, query_object, processor, result, initNs, initBindings, use_store_provided, **kwargs)\u001b[39m\n\u001b[32m   1629\u001b[39m     processor = plugin.get(processor, query.Processor)(\u001b[38;5;28mself\u001b[39m)\n\u001b[32m   1631\u001b[39m \u001b[38;5;66;03m# type error: Argument 1 to \"Result\" has incompatible type \"Mapping[str, Any]\"; expected \"str\"\u001b[39;00m\n\u001b[32m-> \u001b[39m\u001b[32m1632\u001b[39m \u001b[38;5;28;01mreturn\u001b[39;00m result(\u001b[43mprocessor\u001b[49m\u001b[43m.\u001b[49m\u001b[43mquery\u001b[49m\u001b[43m(\u001b[49m\u001b[43mquery_object\u001b[49m\u001b[43m,\u001b[49m\u001b[43m \u001b[49m\u001b[43minitBindings\u001b[49m\u001b[43m,\u001b[49m\u001b[43m \u001b[49m\u001b[43minitNs\u001b[49m\u001b[43m,\u001b[49m\u001b[43m \u001b[49m\u001b[43m*\u001b[49m\u001b[43m*\u001b[49m\u001b[43mkwargs\u001b[49m\u001b[43m)\u001b[49m)\n",
      "\u001b[36mFile \u001b[39m\u001b[32mc:\\Users\\lucag\\OneDrive\\Escritorio\\Facultad\\LIDI\\Proyecto_OVS\\.venv\\Lib\\site-packages\\rdflib\\plugins\\sparql\\processor.py:145\u001b[39m, in \u001b[36mSPARQLProcessor.query\u001b[39m\u001b[34m(self, strOrQuery, initBindings, initNs, base, DEBUG)\u001b[39m\n\u001b[32m    125\u001b[39m \u001b[38;5;250m\u001b[39m\u001b[33;03m\"\"\"\u001b[39;00m\n\u001b[32m    126\u001b[39m \u001b[33;03mEvaluate a query with the given initial bindings, and initial\u001b[39;00m\n\u001b[32m    127\u001b[39m \u001b[33;03mnamespaces. The given base is used to resolve relative URIs in\u001b[39;00m\n\u001b[32m   (...)\u001b[39m\u001b[32m    141\u001b[39m \u001b[33;03m   documentation.\u001b[39;00m\n\u001b[32m    142\u001b[39m \u001b[33;03m\"\"\"\u001b[39;00m\n\u001b[32m    144\u001b[39m \u001b[38;5;28;01mif\u001b[39;00m \u001b[38;5;28misinstance\u001b[39m(strOrQuery, \u001b[38;5;28mstr\u001b[39m):\n\u001b[32m--> \u001b[39m\u001b[32m145\u001b[39m     strOrQuery = translateQuery(\u001b[43mparseQuery\u001b[49m\u001b[43m(\u001b[49m\u001b[43mstrOrQuery\u001b[49m\u001b[43m)\u001b[49m, base, initNs)\n\u001b[32m    147\u001b[39m \u001b[38;5;28;01mreturn\u001b[39;00m evalQuery(\u001b[38;5;28mself\u001b[39m.graph, strOrQuery, initBindings, base)\n",
      "\u001b[36mFile \u001b[39m\u001b[32mc:\\Users\\lucag\\OneDrive\\Escritorio\\Facultad\\LIDI\\Proyecto_OVS\\.venv\\Lib\\site-packages\\rdflib\\plugins\\sparql\\parser.py:1553\u001b[39m, in \u001b[36mparseQuery\u001b[39m\u001b[34m(q)\u001b[39m\n\u001b[32m   1550\u001b[39m     q = q.decode(\u001b[33m\"\u001b[39m\u001b[33mutf-8\u001b[39m\u001b[33m\"\u001b[39m)\n\u001b[32m   1552\u001b[39m q = expandUnicodeEscapes(q)\n\u001b[32m-> \u001b[39m\u001b[32m1553\u001b[39m \u001b[38;5;28;01mreturn\u001b[39;00m \u001b[43mQuery\u001b[49m\u001b[43m.\u001b[49m\u001b[43mparseString\u001b[49m\u001b[43m(\u001b[49m\u001b[43mq\u001b[49m\u001b[43m,\u001b[49m\u001b[43m \u001b[49m\u001b[43mparseAll\u001b[49m\u001b[43m=\u001b[49m\u001b[38;5;28;43;01mTrue\u001b[39;49;00m\u001b[43m)\u001b[49m\n",
      "\u001b[36mFile \u001b[39m\u001b[32mc:\\Users\\lucag\\OneDrive\\Escritorio\\Facultad\\LIDI\\Proyecto_OVS\\.venv\\Lib\\site-packages\\pyparsing\\util.py:417\u001b[39m, in \u001b[36mreplaced_by_pep8.<locals>._inner\u001b[39m\u001b[34m(self, *args, **kwargs)\u001b[39m\n\u001b[32m    412\u001b[39m \u001b[38;5;129m@wraps\u001b[39m(fn)\n\u001b[32m    413\u001b[39m \u001b[38;5;28;01mdef\u001b[39;00m\u001b[38;5;250m \u001b[39m\u001b[34m_inner\u001b[39m(\u001b[38;5;28mself\u001b[39m, *args, **kwargs):\n\u001b[32m    414\u001b[39m     \u001b[38;5;66;03m# warnings.warn(\u001b[39;00m\n\u001b[32m    415\u001b[39m     \u001b[38;5;66;03m#     f\"Deprecated - use {fn.__name__}\", DeprecationWarning, stacklevel=2\u001b[39;00m\n\u001b[32m    416\u001b[39m     \u001b[38;5;66;03m# )\u001b[39;00m\n\u001b[32m--> \u001b[39m\u001b[32m417\u001b[39m     \u001b[38;5;28;01mreturn\u001b[39;00m \u001b[43mfn\u001b[49m\u001b[43m(\u001b[49m\u001b[38;5;28;43mself\u001b[39;49m\u001b[43m,\u001b[49m\u001b[43m \u001b[49m\u001b[43m*\u001b[49m\u001b[43margs\u001b[49m\u001b[43m,\u001b[49m\u001b[43m \u001b[49m\u001b[43m*\u001b[49m\u001b[43m*\u001b[49m\u001b[43mkwargs\u001b[49m\u001b[43m)\u001b[49m\n",
      "\u001b[36mFile \u001b[39m\u001b[32mc:\\Users\\lucag\\OneDrive\\Escritorio\\Facultad\\LIDI\\Proyecto_OVS\\.venv\\Lib\\site-packages\\pyparsing\\core.py:1219\u001b[39m, in \u001b[36mParserElement.parse_string\u001b[39m\u001b[34m(self, instring, parse_all, parseAll)\u001b[39m\n\u001b[32m   1216\u001b[39m         \u001b[38;5;28;01mraise\u001b[39;00m\n\u001b[32m   1218\u001b[39m     \u001b[38;5;66;03m# catch and re-raise exception from here, clearing out pyparsing internal stack trace\u001b[39;00m\n\u001b[32m-> \u001b[39m\u001b[32m1219\u001b[39m     \u001b[38;5;28;01mraise\u001b[39;00m exc.with_traceback(\u001b[38;5;28;01mNone\u001b[39;00m)\n\u001b[32m   1220\u001b[39m \u001b[38;5;28;01melse\u001b[39;00m:\n\u001b[32m   1221\u001b[39m     \u001b[38;5;28;01mreturn\u001b[39;00m tokens\n",
      "\u001b[31mParseException\u001b[39m: Expected {SelectQuery | ConstructQuery | DescribeQuery | AskQuery}, found '`'  (at char 0), (line:1, col:1)"
     ]
    }
   ],
   "source": [
    "from langchain.chains import GraphSparqlQAChain\n",
    "from langchain_community.chat_models import ChatOllama\n",
    "from langchain_core.prompts import PromptTemplate\n",
    "from langchain_community.graphs import RdfGraph\n",
    "\n",
    "print(\"Inicializando RdfGraph...\")\n",
    "\n",
    "graph = RdfGraph(\n",
    "    source_file='/Users/lucag/OneDrive/Escritorio/Facultad/LIDI/grafo_la_plata.ttl',\n",
    "    standard=\"rdf\",\n",
    ")\n",
    "print(\"RdfGraph creado correctamente.\")\n",
    "\n",
    "prompt = PromptTemplate.from_template(''' Write a SPARQL SELECT query for querying a graph database.\n",
    "  The ontology schema delimited by triple backticks in Turtle format is:\n",
    "  ```\n",
    "  {schema}\n",
    "  ```\n",
    "  Use only the classes and properties provided in the schema to construct the SPARQL query.\n",
    "  Do not use any classes or properties that are not explicitly provided in the SPARQL query.\n",
    "  Include all necessary prefixes, always include these :\n",
    "  \n",
    "    PREFIX rdf: <http://www.w3.org/1999/02/22-rdf-syntax-ns#>\n",
    "    PREFIX inmo: <http://www.semanticweb.org/luciana/ontologies/2024/8/inmontology#>\n",
    "    PREFIX avis: <https://raw.githubusercontent.com/fdioguardi/pronto/main/ontology/pronto.owl#>\n",
    "    PREFIX : <http://www.semanticweb.org/luciana/ontologies/2024/8/inmontology#>\n",
    "    PREFIX time: <http://www.w3.org/2006/time#>\n",
    "    PREFIX sioc: <http://rdfs.org/sioc/ns#>\n",
    "    PREFIX rdfs: <http://www.w3.org/2000/01/rdf-schema#>\n",
    "    PREFIX rec: <https://w3id.org/rec#>\n",
    "    PREFIX gr: <http://purl.org/goodrelations/v1#>\n",
    "    PREFIX owl: <http://www.w3.org/2002/07/owl#>\n",
    "    PREFIX pronto: <https://raw.githubusercontent.com/fdioguardi/pronto/main/ontology/pronto.owl#>\n",
    "\n",
    "  Do not include any explanations or apologies in your responses.\n",
    "  Do not use this symbol `.\n",
    "  Do not include any text except the SPARQL query generated.\n",
    "  The question delimited by triple backticks is:\n",
    "  \"\"\"\n",
    "  {prompt}\n",
    "  \"\"\"\n",
    " ''')\n",
    "print(\"PromptTemplate creado.\")\n",
    "\n",
    "# , sparql_select_prompt=prompt\n",
    "print(\"Cargando esquema RDF...\")\n",
    "graph.load_schema()\n",
    "print(\"Esquema RDF cargado.\")\n",
    "\n",
    "print(\"Inicializando GraphSparqlQAChain...\")\n",
    "chainSparQL = GraphSparqlQAChain.from_llm(\n",
    "    ChatOllama(model=\"phi3:3.8b\", temperature=0), graph=graph, allow_dangerous_requests=True, verbose=True, return_sparql_query=True\n",
    ")\n",
    "print(\"GraphSparqlQAChain inicializado.\")\n",
    "\n",
    "question= \"¿Cómo es el nombre de la ciudad donde está ubicado el terreno con id A1327600018?\"\n",
    "\n",
    "print(\"Invocando la cadena para generar la consulta SPARQL...\")\n",
    "sparql_result = chainSparQL.invoke(question)\n",
    "print(\"Consulta SPARQL generada:\")\n",
    "sparql_query= sparql_result[\"sparql_query\"]\n",
    "print(sparql_query)"
   ]
  },
  {
   "cell_type": "code",
   "execution_count": null,
   "id": "8ad333de-028b-4b4b-a9d1-89a0cf0577a3",
   "metadata": {},
   "outputs": [
    {
     "name": "stdout",
     "output_type": "stream",
     "text": [
      "{'head': {'vars': ['s', 'p', 'o']}, 'results': {'bindings': [{'s': {'type': 'uri', 'value': 'https://raw.githubusercontent.com/fdioguardi/pronto/main/ontology/pronto.owl#site2'}, 'p': {'type': 'uri', 'value': 'http://rdfs.org/sioc/ns#space_of'}, 'o': {'type': 'uri', 'value': 'http://www.semanticweb.org/luciana/ontologies/2024/8/inmontology#listing_site2_A1327600018'}}, {'s': {'type': 'uri', 'value': 'http://www.semanticweb.org/luciana/ontologies/2024/8/inmontology#agent_Goncebate%20Loscalzo%20Negocios%20Inmobiliarios'}, 'p': {'type': 'uri', 'value': 'http://xmlns.com/foaf/0.1/made'}, 'o': {'type': 'uri', 'value': 'http://www.semanticweb.org/luciana/ontologies/2024/8/inmontology#listing_site2_A1327600018'}}, {'s': {'type': 'uri', 'value': 'http://www.semanticweb.org/luciana/ontologies/2024/8/inmontology#account_site2_244713448'}, 'p': {'type': 'uri', 'value': 'http://rdfs.org/sioc/ns#creator_of'}, 'o': {'type': 'uri', 'value': 'http://www.semanticweb.org/luciana/ontologies/2024/8/inmontology#listing_site2_A1327600018'}}, {'s': {'type': 'uri', 'value': 'http://www.semanticweb.org/luciana/ontologies/2024/8/inmontology#feature_address_1_real_estate_site2_A1327600018'}, 'p': {'type': 'uri', 'value': 'http://www.w3.org/1999/02/22-rdf-syntax-ns#type'}, 'o': {'type': 'uri', 'value': 'http://www.semanticweb.org/luciana/ontologies/2024/8/inmontology#Direccion'}}, {'s': {'type': 'uri', 'value': 'http://www.semanticweb.org/luciana/ontologies/2024/8/inmontology#feature_address_1_real_estate_site2_A1327600018'}, 'p': {'type': 'uri', 'value': 'http://www.w3.org/2006/time#hasTime'}, 'o': {'type': 'bnode', 'value': '_:b196'}}, {'s': {'type': 'uri', 'value': 'http://www.semanticweb.org/luciana/ontologies/2024/8/inmontology#feature_address_1_real_estate_site2_A1327600018'}, 'p': {'type': 'uri', 'value': 'http://www.semanticweb.org/luciana/ontologies/2024/8/inmontology#hasValue'}, 'o': {'type': 'bnode', 'value': '_:b195'}}, {'s': {'type': 'uri', 'value': 'http://www.semanticweb.org/luciana/ontologies/2024/8/inmontology#feature_address_1_real_estate_site2_A1327600018'}, 'p': {'type': 'uri', 'value': 'http://www.semanticweb.org/luciana/ontologies/2024/8/inmontology#hasOrigin'}, 'o': {'type': 'uri', 'value': 'http://www.semanticweb.org/luciana/ontologies/2024/8/inmontology#Scraper'}}, {'s': {'type': 'uri', 'value': 'http://www.semanticweb.org/luciana/ontologies/2024/8/inmontology#feature_address_2_real_estate_site2_A1327600018'}, 'p': {'type': 'uri', 'value': 'http://www.w3.org/1999/02/22-rdf-syntax-ns#type'}, 'o': {'type': 'uri', 'value': 'http://www.semanticweb.org/luciana/ontologies/2024/8/inmontology#Direccion'}}, {'s': {'type': 'uri', 'value': 'http://www.semanticweb.org/luciana/ontologies/2024/8/inmontology#feature_address_2_real_estate_site2_A1327600018'}, 'p': {'type': 'uri', 'value': 'http://www.w3.org/2006/time#hasTime'}, 'o': {'type': 'bnode', 'value': '_:b1948'}}, {'s': {'type': 'uri', 'value': 'http://www.semanticweb.org/luciana/ontologies/2024/8/inmontology#feature_address_2_real_estate_site2_A1327600018'}, 'p': {'type': 'uri', 'value': 'http://www.semanticweb.org/luciana/ontologies/2024/8/inmontology#hasValue'}, 'o': {'type': 'bnode', 'value': '_:b1947'}}, {'s': {'type': 'uri', 'value': 'http://www.semanticweb.org/luciana/ontologies/2024/8/inmontology#feature_address_2_real_estate_site2_A1327600018'}, 'p': {'type': 'uri', 'value': 'http://www.semanticweb.org/luciana/ontologies/2024/8/inmontology#hasOrigin'}, 'o': {'type': 'uri', 'value': 'http://www.semanticweb.org/luciana/ontologies/2024/8/inmontology#AVE'}}, {'s': {'type': 'uri', 'value': 'http://www.semanticweb.org/luciana/ontologies/2024/8/inmontology#feature_es_multioferta_1_real_estate_site2_A1327600018'}, 'p': {'type': 'uri', 'value': 'http://www.w3.org/1999/02/22-rdf-syntax-ns#type'}, 'o': {'type': 'uri', 'value': 'http://www.semanticweb.org/luciana/ontologies/2024/8/inmontology#Es_multioferta'}}, {'s': {'type': 'uri', 'value': 'http://www.semanticweb.org/luciana/ontologies/2024/8/inmontology#feature_es_multioferta_1_real_estate_site2_A1327600018'}, 'p': {'type': 'uri', 'value': 'http://www.w3.org/2006/time#hasTime'}, 'o': {'type': 'bnode', 'value': '_:b5038'}}, {'s': {'type': 'uri', 'value': 'http://www.semanticweb.org/luciana/ontologies/2024/8/inmontology#feature_es_multioferta_1_real_estate_site2_A1327600018'}, 'p': {'type': 'uri', 'value': 'http://www.semanticweb.org/luciana/ontologies/2024/8/inmontology#hasValue'}, 'o': {'type': 'bnode', 'value': '_:b5037'}}, {'s': {'type': 'uri', 'value': 'http://www.semanticweb.org/luciana/ontologies/2024/8/inmontology#feature_es_multioferta_1_real_estate_site2_A1327600018'}, 'p': {'type': 'uri', 'value': 'http://www.semanticweb.org/luciana/ontologies/2024/8/inmontology#hasOrigin'}, 'o': {'type': 'uri', 'value': 'http://www.semanticweb.org/luciana/ontologies/2024/8/inmontology#AVE'}}, {'s': {'type': 'uri', 'value': 'http://www.semanticweb.org/luciana/ontologies/2024/8/inmontology#feature_posesion_1_real_estate_site2_A1327600018'}, 'p': {'type': 'uri', 'value': 'http://www.w3.org/1999/02/22-rdf-syntax-ns#type'}, 'o': {'type': 'uri', 'value': 'http://www.semanticweb.org/luciana/ontologies/2024/8/inmontology#Posesion'}}, {'s': {'type': 'uri', 'value': 'http://www.semanticweb.org/luciana/ontologies/2024/8/inmontology#feature_posesion_1_real_estate_site2_A1327600018'}, 'p': {'type': 'uri', 'value': 'http://www.w3.org/2006/time#hasTime'}, 'o': {'type': 'bnode', 'value': '_:b5342'}}, {'s': {'type': 'uri', 'value': 'http://www.semanticweb.org/luciana/ontologies/2024/8/inmontology#feature_posesion_1_real_estate_site2_A1327600018'}, 'p': {'type': 'uri', 'value': 'http://www.semanticweb.org/luciana/ontologies/2024/8/inmontology#hasValue'}, 'o': {'type': 'bnode', 'value': '_:b5341'}}, {'s': {'type': 'uri', 'value': 'http://www.semanticweb.org/luciana/ontologies/2024/8/inmontology#feature_posesion_1_real_estate_site2_A1327600018'}, 'p': {'type': 'uri', 'value': 'http://www.semanticweb.org/luciana/ontologies/2024/8/inmontology#hasOrigin'}, 'o': {'type': 'uri', 'value': 'http://www.semanticweb.org/luciana/ontologies/2024/8/inmontology#AVE'}}, {'s': {'type': 'uri', 'value': 'http://www.semanticweb.org/luciana/ontologies/2024/8/inmontology#feature_price_1_listing_site2_A1327600018'}, 'p': {'type': 'uri', 'value': 'http://www.w3.org/1999/02/22-rdf-syntax-ns#type'}, 'o': {'type': 'uri', 'value': 'http://www.semanticweb.org/luciana/ontologies/2024/8/inmontology#Precio'}}, {'s': {'type': 'uri', 'value': 'http://www.semanticweb.org/luciana/ontologies/2024/8/inmontology#feature_price_1_listing_site2_A1327600018'}, 'p': {'type': 'uri', 'value': 'http://www.w3.org/2006/time#hasTime'}, 'o': {'type': 'bnode', 'value': '_:b5524'}}, {'s': {'type': 'uri', 'value': 'http://www.semanticweb.org/luciana/ontologies/2024/8/inmontology#feature_price_1_listing_site2_A1327600018'}, 'p': {'type': 'uri', 'value': 'http://www.semanticweb.org/luciana/ontologies/2024/8/inmontology#hasValue'}, 'o': {'type': 'bnode', 'value': '_:b5523'}}, {'s': {'type': 'uri', 'value': 'http://www.semanticweb.org/luciana/ontologies/2024/8/inmontology#feature_price_1_listing_site2_A1327600018'}, 'p': {'type': 'uri', 'value': 'http://www.semanticweb.org/luciana/ontologies/2024/8/inmontology#hasOrigin'}, 'o': {'type': 'uri', 'value': 'http://www.semanticweb.org/luciana/ontologies/2024/8/inmontology#Scraper'}}, {'s': {'type': 'uri', 'value': 'http://www.semanticweb.org/luciana/ontologies/2024/8/inmontology#feature_total_1_space_land_site2_A1327600018'}, 'p': {'type': 'uri', 'value': 'http://www.w3.org/1999/02/22-rdf-syntax-ns#type'}, 'o': {'type': 'uri', 'value': 'http://www.semanticweb.org/luciana/ontologies/2024/8/inmontology#Superficie'}}, {'s': {'type': 'uri', 'value': 'http://www.semanticweb.org/luciana/ontologies/2024/8/inmontology#feature_total_1_space_land_site2_A1327600018'}, 'p': {'type': 'uri', 'value': 'http://www.w3.org/2006/time#hasTime'}, 'o': {'type': 'bnode', 'value': '_:b7882'}}, {'s': {'type': 'uri', 'value': 'http://www.semanticweb.org/luciana/ontologies/2024/8/inmontology#feature_total_1_space_land_site2_A1327600018'}, 'p': {'type': 'uri', 'value': 'http://www.semanticweb.org/luciana/ontologies/2024/8/inmontology#hasValue'}, 'o': {'type': 'bnode', 'value': '_:b7881'}}, {'s': {'type': 'uri', 'value': 'http://www.semanticweb.org/luciana/ontologies/2024/8/inmontology#feature_total_1_space_land_site2_A1327600018'}, 'p': {'type': 'uri', 'value': 'http://www.semanticweb.org/luciana/ontologies/2024/8/inmontology#hasOrigin'}, 'o': {'type': 'uri', 'value': 'http://www.semanticweb.org/luciana/ontologies/2024/8/inmontology#Scraper'}}, {'s': {'type': 'uri', 'value': 'http://www.semanticweb.org/luciana/ontologies/2024/8/inmontology#real_estate_site2_A1327600018'}, 'p': {'type': 'uri', 'value': 'http://www.w3.org/1999/02/22-rdf-syntax-ns#type'}, 'o': {'type': 'uri', 'value': 'http://www.semanticweb.org/luciana/ontologies/2024/8/inmontology#Terreno'}}, {'s': {'type': 'uri', 'value': 'http://www.semanticweb.org/luciana/ontologies/2024/8/inmontology#real_estate_site2_A1327600018'}, 'p': {'type': 'uri', 'value': 'https://w3id.org/rec#includes'}, 'o': {'type': 'uri', 'value': 'http://www.semanticweb.org/luciana/ontologies/2024/8/inmontology#space_building_site2_A1327600018'}}, {'s': {'type': 'uri', 'value': 'http://www.semanticweb.org/luciana/ontologies/2024/8/inmontology#real_estate_site2_A1327600018'}, 'p': {'type': 'uri', 'value': 'https://w3id.org/rec#includes'}, 'o': {'type': 'uri', 'value': 'http://www.semanticweb.org/luciana/ontologies/2024/8/inmontology#space_land_site2_A1327600018'}}, {'s': {'type': 'uri', 'value': 'http://www.semanticweb.org/luciana/ontologies/2024/8/inmontology#real_estate_site2_A1327600018'}, 'p': {'type': 'uri', 'value': 'http://www.semanticweb.org/luciana/ontologies/2024/8/inmontology#hasFeature'}, 'o': {'type': 'uri', 'value': 'http://www.semanticweb.org/luciana/ontologies/2024/8/inmontology#feature_address_1_real_estate_site2_A1327600018'}}, {'s': {'type': 'uri', 'value': 'http://www.semanticweb.org/luciana/ontologies/2024/8/inmontology#real_estate_site2_A1327600018'}, 'p': {'type': 'uri', 'value': 'http://www.semanticweb.org/luciana/ontologies/2024/8/inmontology#hasFeature'}, 'o': {'type': 'uri', 'value': 'http://www.semanticweb.org/luciana/ontologies/2024/8/inmontology#feature_address_2_real_estate_site2_A1327600018'}}, {'s': {'type': 'uri', 'value': 'http://www.semanticweb.org/luciana/ontologies/2024/8/inmontology#real_estate_site2_A1327600018'}, 'p': {'type': 'uri', 'value': 'http://www.semanticweb.org/luciana/ontologies/2024/8/inmontology#hasFeature'}, 'o': {'type': 'uri', 'value': 'http://www.semanticweb.org/luciana/ontologies/2024/8/inmontology#feature_es_multioferta_1_real_estate_site2_A1327600018'}}, {'s': {'type': 'uri', 'value': 'http://www.semanticweb.org/luciana/ontologies/2024/8/inmontology#real_estate_site2_A1327600018'}, 'p': {'type': 'uri', 'value': 'http://www.semanticweb.org/luciana/ontologies/2024/8/inmontology#hasFeature'}, 'o': {'type': 'uri', 'value': 'http://www.semanticweb.org/luciana/ontologies/2024/8/inmontology#feature_posesion_1_real_estate_site2_A1327600018'}}, {'s': {'type': 'uri', 'value': 'http://www.semanticweb.org/luciana/ontologies/2024/8/inmontology#space_building_site2_A1327600018'}, 'p': {'type': 'uri', 'value': 'http://www.w3.org/1999/02/22-rdf-syntax-ns#type'}, 'o': {'type': 'uri', 'value': 'https://w3id.org/rec#Building'}}, {'s': {'type': 'uri', 'value': 'http://www.semanticweb.org/luciana/ontologies/2024/8/inmontology#space_land_site2_A1327600018'}, 'p': {'type': 'uri', 'value': 'http://www.w3.org/1999/02/22-rdf-syntax-ns#type'}, 'o': {'type': 'uri', 'value': 'https://w3id.org/rec#Site'}}, {'s': {'type': 'uri', 'value': 'http://www.semanticweb.org/luciana/ontologies/2024/8/inmontology#space_land_site2_A1327600018'}, 'p': {'type': 'uri', 'value': 'https://w3id.org/rec#geometry'}, 'o': {'type': 'bnode', 'value': '_:b9789'}}, {'s': {'type': 'uri', 'value': 'http://www.semanticweb.org/luciana/ontologies/2024/8/inmontology#space_land_site2_A1327600018'}, 'p': {'type': 'uri', 'value': 'https://brickschema.org/schema/Brick#hasPart'}, 'o': {'type': 'uri', 'value': 'http://www.semanticweb.org/luciana/ontologies/2024/8/inmontology#space_building_site2_A1327600018'}}, {'s': {'type': 'uri', 'value': 'http://www.semanticweb.org/luciana/ontologies/2024/8/inmontology#space_land_site2_A1327600018'}, 'p': {'type': 'uri', 'value': 'http://www.semanticweb.org/luciana/ontologies/2024/8/inmontology#hasFeature'}, 'o': {'type': 'uri', 'value': 'http://www.semanticweb.org/luciana/ontologies/2024/8/inmontology#feature_total_1_space_land_site2_A1327600018'}}, {'s': {'type': 'uri', 'value': 'http://www.semanticweb.org/luciana/ontologies/2024/8/inmontology#listing_site2_A1327600018'}, 'p': {'type': 'uri', 'value': 'http://rdfs.org/sioc/ns#about'}, 'o': {'type': 'uri', 'value': 'http://www.semanticweb.org/luciana/ontologies/2024/8/inmontology#real_estate_site2_A1327600018'}}, {'s': {'type': 'uri', 'value': 'http://www.semanticweb.org/luciana/ontologies/2024/8/inmontology#listing_site2_A1327600018'}, 'p': {'type': 'uri', 'value': 'http://rdfs.org/sioc/ns#id'}, 'o': {'type': 'literal', 'value': 'A1327600018', 'datatype': 'http://www.w3.org/2001/XMLSchema#string'}}, {'s': {'type': 'uri', 'value': 'http://www.semanticweb.org/luciana/ontologies/2024/8/inmontology#listing_site2_A1327600018'}, 'p': {'type': 'uri', 'value': 'http://xmlns.com/foaf/0.1/maker'}, 'o': {'type': 'uri', 'value': 'http://www.semanticweb.org/luciana/ontologies/2024/8/inmontology#agent_Goncebate%20Loscalzo%20Negocios%20Inmobiliarios'}}, {'s': {'type': 'uri', 'value': 'http://www.semanticweb.org/luciana/ontologies/2024/8/inmontology#listing_site2_A1327600018'}, 'p': {'type': 'uri', 'value': 'http://purl.org/dc/elements/1.1/date'}, 'o': {'type': 'literal', 'value': '2023-01-30T00:00:00', 'datatype': 'http://www.w3.org/2001/XMLSchema#dateTime'}}, {'s': {'type': 'uri', 'value': 'http://www.semanticweb.org/luciana/ontologies/2024/8/inmontology#listing_site2_A1327600018'}, 'p': {'type': 'uri', 'value': 'http://www.w3.org/2000/01/rdf-schema#label'}, 'o': {'type': 'literal', 'value': 'Terreno - Mar Del Plata', 'datatype': 'http://www.w3.org/2001/XMLSchema#string'}}, {'s': {'type': 'uri', 'value': 'http://www.semanticweb.org/luciana/ontologies/2024/8/inmontology#listing_site2_A1327600018'}, 'p': {'type': 'uri', 'value': 'http://www.w3.org/1999/02/22-rdf-syntax-ns#type'}, 'o': {'type': 'uri', 'value': 'https://raw.githubusercontent.com/fdioguardi/pronto/main/ontology/pronto.owl#RealEstateListing'}}, {'s': {'type': 'uri', 'value': 'http://www.semanticweb.org/luciana/ontologies/2024/8/inmontology#listing_site2_A1327600018'}, 'p': {'type': 'uri', 'value': 'http://rdfs.org/sioc/ns#has_creator'}, 'o': {'type': 'uri', 'value': 'http://www.semanticweb.org/luciana/ontologies/2024/8/inmontology#account_site2_244713448'}}, {'s': {'type': 'uri', 'value': 'http://www.semanticweb.org/luciana/ontologies/2024/8/inmontology#listing_site2_A1327600018'}, 'p': {'type': 'uri', 'value': 'http://rdfs.org/sioc/ns#has_space'}, 'o': {'type': 'uri', 'value': 'https://raw.githubusercontent.com/fdioguardi/pronto/main/ontology/pronto.owl#site2'}}, {'s': {'type': 'uri', 'value': 'http://www.semanticweb.org/luciana/ontologies/2024/8/inmontology#listing_site2_A1327600018'}, 'p': {'type': 'uri', 'value': 'http://rdfs.org/sioc/ns#read_at'}, 'o': {'type': 'literal', 'value': '2024-02-02T00:00:00', 'datatype': 'http://www.w3.org/2001/XMLSchema#dateTime'}}, {'s': {'type': 'uri', 'value': 'http://www.semanticweb.org/luciana/ontologies/2024/8/inmontology#listing_site2_A1327600018'}, 'p': {'type': 'uri', 'value': 'http://purl.org/goodrelations/v1#hasBusinessFunction'}, 'o': {'type': 'uri', 'value': 'http://purl.org/goodrelations/v1#Sell'}}, {'s': {'type': 'uri', 'value': 'http://www.semanticweb.org/luciana/ontologies/2024/8/inmontology#listing_site2_A1327600018'}, 'p': {'type': 'uri', 'value': 'http://www.semanticweb.org/luciana/ontologies/2024/8/inmontology#hasFeature'}, 'o': {'type': 'uri', 'value': 'http://www.semanticweb.org/luciana/ontologies/2024/8/inmontology#feature_price_1_listing_site2_A1327600018'}}]}}\n",
      "[{'s': {'type': 'uri', 'value': 'https://raw.githubusercontent.com/fdioguardi/pronto/main/ontology/pronto.owl#site2'}, 'p': {'type': 'uri', 'value': 'http://rdfs.org/sioc/ns#space_of'}, 'o': {'type': 'uri', 'value': 'http://www.semanticweb.org/luciana/ontologies/2024/8/inmontology#listing_site2_A1327600018'}}, {'s': {'type': 'uri', 'value': 'http://www.semanticweb.org/luciana/ontologies/2024/8/inmontology#agent_Goncebate%20Loscalzo%20Negocios%20Inmobiliarios'}, 'p': {'type': 'uri', 'value': 'http://xmlns.com/foaf/0.1/made'}, 'o': {'type': 'uri', 'value': 'http://www.semanticweb.org/luciana/ontologies/2024/8/inmontology#listing_site2_A1327600018'}}, {'s': {'type': 'uri', 'value': 'http://www.semanticweb.org/luciana/ontologies/2024/8/inmontology#account_site2_244713448'}, 'p': {'type': 'uri', 'value': 'http://rdfs.org/sioc/ns#creator_of'}, 'o': {'type': 'uri', 'value': 'http://www.semanticweb.org/luciana/ontologies/2024/8/inmontology#listing_site2_A1327600018'}}, {'s': {'type': 'uri', 'value': 'http://www.semanticweb.org/luciana/ontologies/2024/8/inmontology#feature_address_1_real_estate_site2_A1327600018'}, 'p': {'type': 'uri', 'value': 'http://www.w3.org/1999/02/22-rdf-syntax-ns#type'}, 'o': {'type': 'uri', 'value': 'http://www.semanticweb.org/luciana/ontologies/2024/8/inmontology#Direccion'}}, {'s': {'type': 'uri', 'value': 'http://www.semanticweb.org/luciana/ontologies/2024/8/inmontology#feature_address_1_real_estate_site2_A1327600018'}, 'p': {'type': 'uri', 'value': 'http://www.w3.org/2006/time#hasTime'}, 'o': {'type': 'bnode', 'value': '_:b196'}}, {'s': {'type': 'uri', 'value': 'http://www.semanticweb.org/luciana/ontologies/2024/8/inmontology#feature_address_1_real_estate_site2_A1327600018'}, 'p': {'type': 'uri', 'value': 'http://www.semanticweb.org/luciana/ontologies/2024/8/inmontology#hasValue'}, 'o': {'type': 'bnode', 'value': '_:b195'}}, {'s': {'type': 'uri', 'value': 'http://www.semanticweb.org/luciana/ontologies/2024/8/inmontology#feature_address_1_real_estate_site2_A1327600018'}, 'p': {'type': 'uri', 'value': 'http://www.semanticweb.org/luciana/ontologies/2024/8/inmontology#hasOrigin'}, 'o': {'type': 'uri', 'value': 'http://www.semanticweb.org/luciana/ontologies/2024/8/inmontology#Scraper'}}, {'s': {'type': 'uri', 'value': 'http://www.semanticweb.org/luciana/ontologies/2024/8/inmontology#feature_address_2_real_estate_site2_A1327600018'}, 'p': {'type': 'uri', 'value': 'http://www.w3.org/1999/02/22-rdf-syntax-ns#type'}, 'o': {'type': 'uri', 'value': 'http://www.semanticweb.org/luciana/ontologies/2024/8/inmontology#Direccion'}}, {'s': {'type': 'uri', 'value': 'http://www.semanticweb.org/luciana/ontologies/2024/8/inmontology#feature_address_2_real_estate_site2_A1327600018'}, 'p': {'type': 'uri', 'value': 'http://www.w3.org/2006/time#hasTime'}, 'o': {'type': 'bnode', 'value': '_:b1948'}}, {'s': {'type': 'uri', 'value': 'http://www.semanticweb.org/luciana/ontologies/2024/8/inmontology#feature_address_2_real_estate_site2_A1327600018'}, 'p': {'type': 'uri', 'value': 'http://www.semanticweb.org/luciana/ontologies/2024/8/inmontology#hasValue'}, 'o': {'type': 'bnode', 'value': '_:b1947'}}, {'s': {'type': 'uri', 'value': 'http://www.semanticweb.org/luciana/ontologies/2024/8/inmontology#feature_address_2_real_estate_site2_A1327600018'}, 'p': {'type': 'uri', 'value': 'http://www.semanticweb.org/luciana/ontologies/2024/8/inmontology#hasOrigin'}, 'o': {'type': 'uri', 'value': 'http://www.semanticweb.org/luciana/ontologies/2024/8/inmontology#AVE'}}, {'s': {'type': 'uri', 'value': 'http://www.semanticweb.org/luciana/ontologies/2024/8/inmontology#feature_es_multioferta_1_real_estate_site2_A1327600018'}, 'p': {'type': 'uri', 'value': 'http://www.w3.org/1999/02/22-rdf-syntax-ns#type'}, 'o': {'type': 'uri', 'value': 'http://www.semanticweb.org/luciana/ontologies/2024/8/inmontology#Es_multioferta'}}, {'s': {'type': 'uri', 'value': 'http://www.semanticweb.org/luciana/ontologies/2024/8/inmontology#feature_es_multioferta_1_real_estate_site2_A1327600018'}, 'p': {'type': 'uri', 'value': 'http://www.w3.org/2006/time#hasTime'}, 'o': {'type': 'bnode', 'value': '_:b5038'}}, {'s': {'type': 'uri', 'value': 'http://www.semanticweb.org/luciana/ontologies/2024/8/inmontology#feature_es_multioferta_1_real_estate_site2_A1327600018'}, 'p': {'type': 'uri', 'value': 'http://www.semanticweb.org/luciana/ontologies/2024/8/inmontology#hasValue'}, 'o': {'type': 'bnode', 'value': '_:b5037'}}, {'s': {'type': 'uri', 'value': 'http://www.semanticweb.org/luciana/ontologies/2024/8/inmontology#feature_es_multioferta_1_real_estate_site2_A1327600018'}, 'p': {'type': 'uri', 'value': 'http://www.semanticweb.org/luciana/ontologies/2024/8/inmontology#hasOrigin'}, 'o': {'type': 'uri', 'value': 'http://www.semanticweb.org/luciana/ontologies/2024/8/inmontology#AVE'}}, {'s': {'type': 'uri', 'value': 'http://www.semanticweb.org/luciana/ontologies/2024/8/inmontology#feature_posesion_1_real_estate_site2_A1327600018'}, 'p': {'type': 'uri', 'value': 'http://www.w3.org/1999/02/22-rdf-syntax-ns#type'}, 'o': {'type': 'uri', 'value': 'http://www.semanticweb.org/luciana/ontologies/2024/8/inmontology#Posesion'}}, {'s': {'type': 'uri', 'value': 'http://www.semanticweb.org/luciana/ontologies/2024/8/inmontology#feature_posesion_1_real_estate_site2_A1327600018'}, 'p': {'type': 'uri', 'value': 'http://www.w3.org/2006/time#hasTime'}, 'o': {'type': 'bnode', 'value': '_:b5342'}}, {'s': {'type': 'uri', 'value': 'http://www.semanticweb.org/luciana/ontologies/2024/8/inmontology#feature_posesion_1_real_estate_site2_A1327600018'}, 'p': {'type': 'uri', 'value': 'http://www.semanticweb.org/luciana/ontologies/2024/8/inmontology#hasValue'}, 'o': {'type': 'bnode', 'value': '_:b5341'}}, {'s': {'type': 'uri', 'value': 'http://www.semanticweb.org/luciana/ontologies/2024/8/inmontology#feature_posesion_1_real_estate_site2_A1327600018'}, 'p': {'type': 'uri', 'value': 'http://www.semanticweb.org/luciana/ontologies/2024/8/inmontology#hasOrigin'}, 'o': {'type': 'uri', 'value': 'http://www.semanticweb.org/luciana/ontologies/2024/8/inmontology#AVE'}}, {'s': {'type': 'uri', 'value': 'http://www.semanticweb.org/luciana/ontologies/2024/8/inmontology#feature_price_1_listing_site2_A1327600018'}, 'p': {'type': 'uri', 'value': 'http://www.w3.org/1999/02/22-rdf-syntax-ns#type'}, 'o': {'type': 'uri', 'value': 'http://www.semanticweb.org/luciana/ontologies/2024/8/inmontology#Precio'}}, {'s': {'type': 'uri', 'value': 'http://www.semanticweb.org/luciana/ontologies/2024/8/inmontology#feature_price_1_listing_site2_A1327600018'}, 'p': {'type': 'uri', 'value': 'http://www.w3.org/2006/time#hasTime'}, 'o': {'type': 'bnode', 'value': '_:b5524'}}, {'s': {'type': 'uri', 'value': 'http://www.semanticweb.org/luciana/ontologies/2024/8/inmontology#feature_price_1_listing_site2_A1327600018'}, 'p': {'type': 'uri', 'value': 'http://www.semanticweb.org/luciana/ontologies/2024/8/inmontology#hasValue'}, 'o': {'type': 'bnode', 'value': '_:b5523'}}, {'s': {'type': 'uri', 'value': 'http://www.semanticweb.org/luciana/ontologies/2024/8/inmontology#feature_price_1_listing_site2_A1327600018'}, 'p': {'type': 'uri', 'value': 'http://www.semanticweb.org/luciana/ontologies/2024/8/inmontology#hasOrigin'}, 'o': {'type': 'uri', 'value': 'http://www.semanticweb.org/luciana/ontologies/2024/8/inmontology#Scraper'}}, {'s': {'type': 'uri', 'value': 'http://www.semanticweb.org/luciana/ontologies/2024/8/inmontology#feature_total_1_space_land_site2_A1327600018'}, 'p': {'type': 'uri', 'value': 'http://www.w3.org/1999/02/22-rdf-syntax-ns#type'}, 'o': {'type': 'uri', 'value': 'http://www.semanticweb.org/luciana/ontologies/2024/8/inmontology#Superficie'}}, {'s': {'type': 'uri', 'value': 'http://www.semanticweb.org/luciana/ontologies/2024/8/inmontology#feature_total_1_space_land_site2_A1327600018'}, 'p': {'type': 'uri', 'value': 'http://www.w3.org/2006/time#hasTime'}, 'o': {'type': 'bnode', 'value': '_:b7882'}}, {'s': {'type': 'uri', 'value': 'http://www.semanticweb.org/luciana/ontologies/2024/8/inmontology#feature_total_1_space_land_site2_A1327600018'}, 'p': {'type': 'uri', 'value': 'http://www.semanticweb.org/luciana/ontologies/2024/8/inmontology#hasValue'}, 'o': {'type': 'bnode', 'value': '_:b7881'}}, {'s': {'type': 'uri', 'value': 'http://www.semanticweb.org/luciana/ontologies/2024/8/inmontology#feature_total_1_space_land_site2_A1327600018'}, 'p': {'type': 'uri', 'value': 'http://www.semanticweb.org/luciana/ontologies/2024/8/inmontology#hasOrigin'}, 'o': {'type': 'uri', 'value': 'http://www.semanticweb.org/luciana/ontologies/2024/8/inmontology#Scraper'}}, {'s': {'type': 'uri', 'value': 'http://www.semanticweb.org/luciana/ontologies/2024/8/inmontology#real_estate_site2_A1327600018'}, 'p': {'type': 'uri', 'value': 'http://www.w3.org/1999/02/22-rdf-syntax-ns#type'}, 'o': {'type': 'uri', 'value': 'http://www.semanticweb.org/luciana/ontologies/2024/8/inmontology#Terreno'}}, {'s': {'type': 'uri', 'value': 'http://www.semanticweb.org/luciana/ontologies/2024/8/inmontology#real_estate_site2_A1327600018'}, 'p': {'type': 'uri', 'value': 'https://w3id.org/rec#includes'}, 'o': {'type': 'uri', 'value': 'http://www.semanticweb.org/luciana/ontologies/2024/8/inmontology#space_building_site2_A1327600018'}}, {'s': {'type': 'uri', 'value': 'http://www.semanticweb.org/luciana/ontologies/2024/8/inmontology#real_estate_site2_A1327600018'}, 'p': {'type': 'uri', 'value': 'https://w3id.org/rec#includes'}, 'o': {'type': 'uri', 'value': 'http://www.semanticweb.org/luciana/ontologies/2024/8/inmontology#space_land_site2_A1327600018'}}, {'s': {'type': 'uri', 'value': 'http://www.semanticweb.org/luciana/ontologies/2024/8/inmontology#real_estate_site2_A1327600018'}, 'p': {'type': 'uri', 'value': 'http://www.semanticweb.org/luciana/ontologies/2024/8/inmontology#hasFeature'}, 'o': {'type': 'uri', 'value': 'http://www.semanticweb.org/luciana/ontologies/2024/8/inmontology#feature_address_1_real_estate_site2_A1327600018'}}, {'s': {'type': 'uri', 'value': 'http://www.semanticweb.org/luciana/ontologies/2024/8/inmontology#real_estate_site2_A1327600018'}, 'p': {'type': 'uri', 'value': 'http://www.semanticweb.org/luciana/ontologies/2024/8/inmontology#hasFeature'}, 'o': {'type': 'uri', 'value': 'http://www.semanticweb.org/luciana/ontologies/2024/8/inmontology#feature_address_2_real_estate_site2_A1327600018'}}, {'s': {'type': 'uri', 'value': 'http://www.semanticweb.org/luciana/ontologies/2024/8/inmontology#real_estate_site2_A1327600018'}, 'p': {'type': 'uri', 'value': 'http://www.semanticweb.org/luciana/ontologies/2024/8/inmontology#hasFeature'}, 'o': {'type': 'uri', 'value': 'http://www.semanticweb.org/luciana/ontologies/2024/8/inmontology#feature_es_multioferta_1_real_estate_site2_A1327600018'}}, {'s': {'type': 'uri', 'value': 'http://www.semanticweb.org/luciana/ontologies/2024/8/inmontology#real_estate_site2_A1327600018'}, 'p': {'type': 'uri', 'value': 'http://www.semanticweb.org/luciana/ontologies/2024/8/inmontology#hasFeature'}, 'o': {'type': 'uri', 'value': 'http://www.semanticweb.org/luciana/ontologies/2024/8/inmontology#feature_posesion_1_real_estate_site2_A1327600018'}}, {'s': {'type': 'uri', 'value': 'http://www.semanticweb.org/luciana/ontologies/2024/8/inmontology#space_building_site2_A1327600018'}, 'p': {'type': 'uri', 'value': 'http://www.w3.org/1999/02/22-rdf-syntax-ns#type'}, 'o': {'type': 'uri', 'value': 'https://w3id.org/rec#Building'}}, {'s': {'type': 'uri', 'value': 'http://www.semanticweb.org/luciana/ontologies/2024/8/inmontology#space_land_site2_A1327600018'}, 'p': {'type': 'uri', 'value': 'http://www.w3.org/1999/02/22-rdf-syntax-ns#type'}, 'o': {'type': 'uri', 'value': 'https://w3id.org/rec#Site'}}, {'s': {'type': 'uri', 'value': 'http://www.semanticweb.org/luciana/ontologies/2024/8/inmontology#space_land_site2_A1327600018'}, 'p': {'type': 'uri', 'value': 'https://w3id.org/rec#geometry'}, 'o': {'type': 'bnode', 'value': '_:b9789'}}, {'s': {'type': 'uri', 'value': 'http://www.semanticweb.org/luciana/ontologies/2024/8/inmontology#space_land_site2_A1327600018'}, 'p': {'type': 'uri', 'value': 'https://brickschema.org/schema/Brick#hasPart'}, 'o': {'type': 'uri', 'value': 'http://www.semanticweb.org/luciana/ontologies/2024/8/inmontology#space_building_site2_A1327600018'}}, {'s': {'type': 'uri', 'value': 'http://www.semanticweb.org/luciana/ontologies/2024/8/inmontology#space_land_site2_A1327600018'}, 'p': {'type': 'uri', 'value': 'http://www.semanticweb.org/luciana/ontologies/2024/8/inmontology#hasFeature'}, 'o': {'type': 'uri', 'value': 'http://www.semanticweb.org/luciana/ontologies/2024/8/inmontology#feature_total_1_space_land_site2_A1327600018'}}, {'s': {'type': 'uri', 'value': 'http://www.semanticweb.org/luciana/ontologies/2024/8/inmontology#listing_site2_A1327600018'}, 'p': {'type': 'uri', 'value': 'http://rdfs.org/sioc/ns#about'}, 'o': {'type': 'uri', 'value': 'http://www.semanticweb.org/luciana/ontologies/2024/8/inmontology#real_estate_site2_A1327600018'}}, {'s': {'type': 'uri', 'value': 'http://www.semanticweb.org/luciana/ontologies/2024/8/inmontology#listing_site2_A1327600018'}, 'p': {'type': 'uri', 'value': 'http://rdfs.org/sioc/ns#id'}, 'o': {'type': 'literal', 'value': 'A1327600018', 'datatype': 'http://www.w3.org/2001/XMLSchema#string'}}, {'s': {'type': 'uri', 'value': 'http://www.semanticweb.org/luciana/ontologies/2024/8/inmontology#listing_site2_A1327600018'}, 'p': {'type': 'uri', 'value': 'http://xmlns.com/foaf/0.1/maker'}, 'o': {'type': 'uri', 'value': 'http://www.semanticweb.org/luciana/ontologies/2024/8/inmontology#agent_Goncebate%20Loscalzo%20Negocios%20Inmobiliarios'}}, {'s': {'type': 'uri', 'value': 'http://www.semanticweb.org/luciana/ontologies/2024/8/inmontology#listing_site2_A1327600018'}, 'p': {'type': 'uri', 'value': 'http://purl.org/dc/elements/1.1/date'}, 'o': {'type': 'literal', 'value': '2023-01-30T00:00:00', 'datatype': 'http://www.w3.org/2001/XMLSchema#dateTime'}}, {'s': {'type': 'uri', 'value': 'http://www.semanticweb.org/luciana/ontologies/2024/8/inmontology#listing_site2_A1327600018'}, 'p': {'type': 'uri', 'value': 'http://www.w3.org/2000/01/rdf-schema#label'}, 'o': {'type': 'literal', 'value': 'Terreno - Mar Del Plata', 'datatype': 'http://www.w3.org/2001/XMLSchema#string'}}, {'s': {'type': 'uri', 'value': 'http://www.semanticweb.org/luciana/ontologies/2024/8/inmontology#listing_site2_A1327600018'}, 'p': {'type': 'uri', 'value': 'http://www.w3.org/1999/02/22-rdf-syntax-ns#type'}, 'o': {'type': 'uri', 'value': 'https://raw.githubusercontent.com/fdioguardi/pronto/main/ontology/pronto.owl#RealEstateListing'}}, {'s': {'type': 'uri', 'value': 'http://www.semanticweb.org/luciana/ontologies/2024/8/inmontology#listing_site2_A1327600018'}, 'p': {'type': 'uri', 'value': 'http://rdfs.org/sioc/ns#has_creator'}, 'o': {'type': 'uri', 'value': 'http://www.semanticweb.org/luciana/ontologies/2024/8/inmontology#account_site2_244713448'}}, {'s': {'type': 'uri', 'value': 'http://www.semanticweb.org/luciana/ontologies/2024/8/inmontology#listing_site2_A1327600018'}, 'p': {'type': 'uri', 'value': 'http://rdfs.org/sioc/ns#has_space'}, 'o': {'type': 'uri', 'value': 'https://raw.githubusercontent.com/fdioguardi/pronto/main/ontology/pronto.owl#site2'}}, {'s': {'type': 'uri', 'value': 'http://www.semanticweb.org/luciana/ontologies/2024/8/inmontology#listing_site2_A1327600018'}, 'p': {'type': 'uri', 'value': 'http://rdfs.org/sioc/ns#read_at'}, 'o': {'type': 'literal', 'value': '2024-02-02T00:00:00', 'datatype': 'http://www.w3.org/2001/XMLSchema#dateTime'}}, {'s': {'type': 'uri', 'value': 'http://www.semanticweb.org/luciana/ontologies/2024/8/inmontology#listing_site2_A1327600018'}, 'p': {'type': 'uri', 'value': 'http://purl.org/goodrelations/v1#hasBusinessFunction'}, 'o': {'type': 'uri', 'value': 'http://purl.org/goodrelations/v1#Sell'}}, {'s': {'type': 'uri', 'value': 'http://www.semanticweb.org/luciana/ontologies/2024/8/inmontology#listing_site2_A1327600018'}, 'p': {'type': 'uri', 'value': 'http://www.semanticweb.org/luciana/ontologies/2024/8/inmontology#hasFeature'}, 'o': {'type': 'uri', 'value': 'http://www.semanticweb.org/luciana/ontologies/2024/8/inmontology#feature_price_1_listing_site2_A1327600018'}}]\n"
     ]
    }
   ],
   "source": [
    "MILLENNIUMDB_ENDPOINT = \"http://localhost:1234/sparql\" \n",
    "\n",
    "graph_retriever = MillenniumDBRetriever(endpoint_url=MILLENNIUMDB_ENDPOINT)\n",
    "triples_text = graph_retriever._get_relevant_documents()\n",
    "print(triples_text)"
   ]
  },
  {
   "cell_type": "code",
   "execution_count": null,
   "id": "ec089dfe-64ca-477a-99d5-c479c967613a",
   "metadata": {
    "scrolled": true
   },
   "outputs": [
    {
     "name": "stdout",
     "output_type": "stream",
     "text": [
      "content='A partir del contexto proporcionado, podemos identificar las siguientes triples relevantes:\\n\\n* `http://www.semanticweb.org/luciana/ontologies/2024/8/inmontology#listing_site2_A1327600018` `http://purl.org/dc/elements/1.1/date` `\"2023-01-30T00:00:00\"`\\n* `http://www.semanticweb.org/luciana/ontologies/2024/8/inmontology#listing_site2_A1327600018` `http://www.w3.org/2000/01/rdf-schema#label` `\"Terreno - Mar Del Plata\"`\\n\\nLa triple que describe el título del listing indica que se trata de un \"Terreno\" ubicado en \"Mar Del Plata\". Por lo tanto, la respuesta a la pregunta es: **Mar Del Plata**.' additional_kwargs={} response_metadata={'model': 'llama3', 'created_at': '2025-08-25T20:53:17.363522906Z', 'message': {'role': 'assistant', 'content': ''}, 'done_reason': 'stop', 'done': True, 'total_duration': 3613511685, 'load_duration': 11921060, 'prompt_eval_count': 2048, 'prompt_eval_duration': 404000000, 'eval_count': 182, 'eval_duration': 3196000000} id='run-0e20569f-3b1c-4d95-b094-d85ebede73ca-0'\n"
     ]
    }
   ],
   "source": [
    "from langchain_core.prompts import ChatPromptTemplate\n",
    "from langchain_community.chat_models import ChatOllama\n",
    "\n",
    "prompt = ChatPromptTemplate.from_template(\n",
    "\"\"\"\n",
    "Using only the given Context below, made of RDF-like triples, use it to answer the Question. Answer briefly.\n",
    "\n",
    "*** Context ***\n",
    "{triples}\n",
    "\n",
    "*** Question ***\n",
    "{question}\n",
    "\n",
    "\"\"\")\n",
    "\n",
    "llm = ChatOllama(model=\"llama3\", temperature=0, verbose=True)\n",
    "\n",
    "chain = prompt | llm\n",
    "question= \"¿Cómo es el nombre de la ciudad donde está ubicado el terreno con id A1327600018?\"\n",
    "\n",
    "input_data = {\n",
    "    \"question\": question,\n",
    "    \"triples\": triples_text\n",
    "}\n",
    "answer = chain.invoke(input_data)\n",
    "print(answer)\n"
   ]
  },
  {
   "cell_type": "code",
   "execution_count": null,
   "id": "6534ae8d-88e3-450d-943e-a8a52cb1e95c",
   "metadata": {},
   "outputs": [],
   "source": []
  }
 ],
 "metadata": {
  "kernelspec": {
   "display_name": ".venv",
   "language": "python",
   "name": "python3"
  },
  "language_info": {
   "codemirror_mode": {
    "name": "ipython",
    "version": 3
   },
   "file_extension": ".py",
   "mimetype": "text/x-python",
   "name": "python",
   "nbconvert_exporter": "python",
   "pygments_lexer": "ipython3",
   "version": "3.12.10"
  }
 },
 "nbformat": 4,
 "nbformat_minor": 5
}
